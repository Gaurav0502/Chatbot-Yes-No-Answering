{
 "cells": [
  {
   "cell_type": "markdown",
   "id": "313a2451",
   "metadata": {},
   "source": [
    "# Importing the required modules"
   ]
  },
  {
   "cell_type": "code",
   "execution_count": 38,
   "id": "f0f0573d",
   "metadata": {},
   "outputs": [],
   "source": [
    "# Modules for data manipulation and visualisation.\n",
    "import pandas as pd\n",
    "import numpy as np\n",
    "import matplotlib.pyplot as plt\n",
    "\n",
    "# Module for handling json documents.\n",
    "import json\n",
    "\n",
    "# Modules for the NER and its customisation.\n",
    "import spacy\n",
    "from spacy.util import minibatch, compounding\n",
    "from spacy.training.example import Example\n",
    "from pathlib import Path\n",
    "\n",
    "# Module for matching regular expressions.\n",
    "import re\n",
    "\n",
    "# Module for suppressing warnings.\n",
    "import warnings \n",
    "warnings.filterwarnings('ignore')\n",
    "\n",
    "# Module for random sampling for training data.\n",
    "import random"
   ]
  },
  {
   "cell_type": "markdown",
   "id": "397f0914",
   "metadata": {},
   "source": [
    "# Question Input"
   ]
  },
  {
   "cell_type": "code",
   "execution_count": 91,
   "id": "e6784fe9",
   "metadata": {},
   "outputs": [],
   "source": [
    "qs = input()"
   ]
  },
  {
   "cell_type": "markdown",
   "id": "8cd836dd",
   "metadata": {},
   "source": [
    "# Intent Classification"
   ]
  },
  {
   "cell_type": "code",
   "execution_count": 92,
   "id": "2bf16c76",
   "metadata": {},
   "outputs": [],
   "source": [
    "file = open(r\"..\\data\\intent_classification_data.json\")\n",
    "data = json.load(file)"
   ]
  },
  {
   "cell_type": "code",
   "execution_count": 93,
   "id": "9b32aa4d",
   "metadata": {},
   "outputs": [
    {
     "data": {
      "text/plain": [
       "{'TrainCheck': ['Is X the train number of Y?', 'Does X have train number Y?'],\n",
       " 'RouteCheck': ['Are X and Y connected by rail?',\n",
       "  'Is there a train connecting X and Y?']}"
      ]
     },
     "execution_count": 93,
     "metadata": {},
     "output_type": "execute_result"
    }
   ],
   "source": [
    "data"
   ]
  },
  {
   "cell_type": "code",
   "execution_count": 94,
   "id": "fdb8b9b7",
   "metadata": {},
   "outputs": [],
   "source": [
    "intent_similiarity = dict()"
   ]
  },
  {
   "cell_type": "code",
   "execution_count": 95,
   "id": "0176adfb",
   "metadata": {},
   "outputs": [],
   "source": [
    "def question_similiarity(sentence,question):\n",
    "    nlp = spacy.load(\"en_core_web_sm\")\n",
    "    sent = nlp(sentence)\n",
    "    q = nlp(question)\n",
    "    return sent.similarity(q)"
   ]
  },
  {
   "cell_type": "code",
   "execution_count": 96,
   "id": "523b7112",
   "metadata": {
    "scrolled": true
   },
   "outputs": [
    {
     "name": "stdout",
     "output_type": "stream",
     "text": [
      "{'TrainCheck': 0.708569796852156, 'RouteCheck': 0.466522582615974}\n"
     ]
    }
   ],
   "source": [
    "for i in data:\n",
    "    intent_similiarity[i] = np.mean(list(map(question_similiarity,data[i],[qs]*len(data[i]))))\n",
    "print(intent_similiarity)"
   ]
  },
  {
   "cell_type": "markdown",
   "id": "e8338078",
   "metadata": {},
   "source": [
    "# Entity Recognition"
   ]
  },
  {
   "cell_type": "markdown",
   "id": "de24e565",
   "metadata": {},
   "source": [
    "## Preparing training data"
   ]
  },
  {
   "cell_type": "markdown",
   "id": "e13c5e8f",
   "metadata": {},
   "source": [
    "### Reading the dataset"
   ]
  },
  {
   "cell_type": "code",
   "execution_count": null,
   "id": "63c9a6fa",
   "metadata": {},
   "outputs": [],
   "source": [
    "trains = pd.read_csv(\"..\\data\\All_Indian_Trains.csv\")"
   ]
  },
  {
   "cell_type": "code",
   "execution_count": null,
   "id": "d5930645",
   "metadata": {},
   "outputs": [
    {
     "data": {
      "text/html": [
       "<div>\n",
       "<style scoped>\n",
       "    .dataframe tbody tr th:only-of-type {\n",
       "        vertical-align: middle;\n",
       "    }\n",
       "\n",
       "    .dataframe tbody tr th {\n",
       "        vertical-align: top;\n",
       "    }\n",
       "\n",
       "    .dataframe thead th {\n",
       "        text-align: right;\n",
       "    }\n",
       "</style>\n",
       "<table border=\"1\" class=\"dataframe\">\n",
       "  <thead>\n",
       "    <tr style=\"text-align: right;\">\n",
       "      <th></th>\n",
       "      <th>Unnamed: 0</th>\n",
       "      <th>Train no.</th>\n",
       "      <th>Train name</th>\n",
       "      <th>Starts</th>\n",
       "      <th>Ends</th>\n",
       "    </tr>\n",
       "  </thead>\n",
       "  <tbody>\n",
       "    <tr>\n",
       "      <th>0</th>\n",
       "      <td>0</td>\n",
       "      <td>12723</td>\n",
       "      <td>Andhra Pradesh Express</td>\n",
       "      <td>Hyderabad Decan</td>\n",
       "      <td>New Delhi</td>\n",
       "    </tr>\n",
       "    <tr>\n",
       "      <th>1</th>\n",
       "      <td>1</td>\n",
       "      <td>22416</td>\n",
       "      <td>Andhra Pradesh Express</td>\n",
       "      <td>New Delhi</td>\n",
       "      <td>Vishakapatnam</td>\n",
       "    </tr>\n",
       "    <tr>\n",
       "      <th>2</th>\n",
       "      <td>2</td>\n",
       "      <td>12724</td>\n",
       "      <td>Andhra Pradesh Express</td>\n",
       "      <td>New Delhi</td>\n",
       "      <td>Hyderabad Decan</td>\n",
       "    </tr>\n",
       "    <tr>\n",
       "      <th>3</th>\n",
       "      <td>3</td>\n",
       "      <td>12707</td>\n",
       "      <td>Andhra Pradesh Sampark Kranti</td>\n",
       "      <td>Tirupati</td>\n",
       "      <td>H Nizamuddin</td>\n",
       "    </tr>\n",
       "    <tr>\n",
       "      <th>4</th>\n",
       "      <td>4</td>\n",
       "      <td>15909</td>\n",
       "      <td>Abadh Assam Express</td>\n",
       "      <td>New Tinsukia Junction</td>\n",
       "      <td>Darbhanga Junction</td>\n",
       "    </tr>\n",
       "  </tbody>\n",
       "</table>\n",
       "</div>"
      ],
      "text/plain": [
       "   Unnamed: 0  Train no.                     Train name  \\\n",
       "0           0      12723         Andhra Pradesh Express   \n",
       "1           1      22416         Andhra Pradesh Express   \n",
       "2           2      12724         Andhra Pradesh Express   \n",
       "3           3      12707  Andhra Pradesh Sampark Kranti   \n",
       "4           4      15909            Abadh Assam Express   \n",
       "\n",
       "                  Starts                Ends  \n",
       "0        Hyderabad Decan           New Delhi  \n",
       "1              New Delhi       Vishakapatnam  \n",
       "2              New Delhi     Hyderabad Decan  \n",
       "3               Tirupati        H Nizamuddin  \n",
       "4  New Tinsukia Junction  Darbhanga Junction  "
      ]
     },
     "execution_count": 91,
     "metadata": {},
     "output_type": "execute_result"
    }
   ],
   "source": [
    "trains.head()"
   ]
  },
  {
   "cell_type": "code",
   "execution_count": null,
   "id": "63a207e9",
   "metadata": {},
   "outputs": [],
   "source": [
    "trains = trains.drop([\"Unnamed: 0\"],axis=1)"
   ]
  },
  {
   "cell_type": "code",
   "execution_count": null,
   "id": "46d54150",
   "metadata": {},
   "outputs": [
    {
     "data": {
      "text/html": [
       "<div>\n",
       "<style scoped>\n",
       "    .dataframe tbody tr th:only-of-type {\n",
       "        vertical-align: middle;\n",
       "    }\n",
       "\n",
       "    .dataframe tbody tr th {\n",
       "        vertical-align: top;\n",
       "    }\n",
       "\n",
       "    .dataframe thead th {\n",
       "        text-align: right;\n",
       "    }\n",
       "</style>\n",
       "<table border=\"1\" class=\"dataframe\">\n",
       "  <thead>\n",
       "    <tr style=\"text-align: right;\">\n",
       "      <th></th>\n",
       "      <th>Train no.</th>\n",
       "      <th>Train name</th>\n",
       "      <th>Starts</th>\n",
       "      <th>Ends</th>\n",
       "    </tr>\n",
       "  </thead>\n",
       "  <tbody>\n",
       "    <tr>\n",
       "      <th>0</th>\n",
       "      <td>12723</td>\n",
       "      <td>Andhra Pradesh Express</td>\n",
       "      <td>Hyderabad Decan</td>\n",
       "      <td>New Delhi</td>\n",
       "    </tr>\n",
       "    <tr>\n",
       "      <th>1</th>\n",
       "      <td>22416</td>\n",
       "      <td>Andhra Pradesh Express</td>\n",
       "      <td>New Delhi</td>\n",
       "      <td>Vishakapatnam</td>\n",
       "    </tr>\n",
       "    <tr>\n",
       "      <th>2</th>\n",
       "      <td>12724</td>\n",
       "      <td>Andhra Pradesh Express</td>\n",
       "      <td>New Delhi</td>\n",
       "      <td>Hyderabad Decan</td>\n",
       "    </tr>\n",
       "    <tr>\n",
       "      <th>3</th>\n",
       "      <td>12707</td>\n",
       "      <td>Andhra Pradesh Sampark Kranti</td>\n",
       "      <td>Tirupati</td>\n",
       "      <td>H Nizamuddin</td>\n",
       "    </tr>\n",
       "    <tr>\n",
       "      <th>4</th>\n",
       "      <td>15909</td>\n",
       "      <td>Abadh Assam Express</td>\n",
       "      <td>New Tinsukia Junction</td>\n",
       "      <td>Darbhanga Junction</td>\n",
       "    </tr>\n",
       "  </tbody>\n",
       "</table>\n",
       "</div>"
      ],
      "text/plain": [
       "   Train no.                     Train name                 Starts  \\\n",
       "0      12723         Andhra Pradesh Express        Hyderabad Decan   \n",
       "1      22416         Andhra Pradesh Express              New Delhi   \n",
       "2      12724         Andhra Pradesh Express              New Delhi   \n",
       "3      12707  Andhra Pradesh Sampark Kranti               Tirupati   \n",
       "4      15909            Abadh Assam Express  New Tinsukia Junction   \n",
       "\n",
       "                 Ends  \n",
       "0           New Delhi  \n",
       "1       Vishakapatnam  \n",
       "2     Hyderabad Decan  \n",
       "3        H Nizamuddin  \n",
       "4  Darbhanga Junction  "
      ]
     },
     "execution_count": 93,
     "metadata": {},
     "output_type": "execute_result"
    }
   ],
   "source": [
    "trains.head()"
   ]
  },
  {
   "cell_type": "markdown",
   "id": "8e32a0f6",
   "metadata": {},
   "source": [
    "### Seggragating different forms of questions"
   ]
  },
  {
   "cell_type": "code",
   "execution_count": null,
   "id": "64b2d785",
   "metadata": {},
   "outputs": [],
   "source": [
    "num2name = data[\"TrainCheck\"][0]\n",
    "name2number = data[\"TrainCheck\"][1]\n",
    "route_check = data[\"RouteCheck\"]"
   ]
  },
  {
   "cell_type": "markdown",
   "id": "13d3b4ad",
   "metadata": {},
   "source": [
    "### All the available unique entities in the dataset"
   ]
  },
  {
   "cell_type": "code",
   "execution_count": null,
   "id": "02ba309a",
   "metadata": {},
   "outputs": [],
   "source": [
    "all_train_nos = list(set(trains[\"Train no.\"]))\n",
    "all_train_names = list(set(trains[\"Train name\"]))\n",
    "all_stations = list(set(list(trains[\"Starts\"])+list(trains[\"Ends\"])))"
   ]
  },
  {
   "cell_type": "markdown",
   "id": "1325aa2d",
   "metadata": {},
   "source": [
    "### Data Augmentation"
   ]
  },
  {
   "cell_type": "code",
   "execution_count": null,
   "id": "f23266b2",
   "metadata": {},
   "outputs": [],
   "source": [
    "training_data = []"
   ]
  },
  {
   "cell_type": "markdown",
   "id": "4c35e565",
   "metadata": {},
   "source": [
    "#### Randomly sampling 20 entries of train numbers and names"
   ]
  },
  {
   "cell_type": "code",
   "execution_count": null,
   "id": "05432cac",
   "metadata": {},
   "outputs": [],
   "source": [
    "train_nos_sampled = random.sample(all_train_nos,20)"
   ]
  },
  {
   "cell_type": "code",
   "execution_count": null,
   "id": "c76bfec5",
   "metadata": {},
   "outputs": [],
   "source": [
    "train_names_sampled = random.sample(all_train_names,20)"
   ]
  },
  {
   "cell_type": "markdown",
   "id": "765c495f",
   "metadata": {},
   "source": [
    "#### Creating training data for TrainCheck"
   ]
  },
  {
   "cell_type": "code",
   "execution_count": null,
   "id": "19967b31",
   "metadata": {},
   "outputs": [],
   "source": [
    "for i in list(zip(train_nos_sampled,train_names_sampled)):\n",
    "    prepared_str = num2name.replace(\"X\",str(i[0])).replace(\"Y\",i[1])\n",
    "    training_data.append((prepared_str,{\"entities\":[getFirstMatch(str(i[0]),prepared_str,\"CARDINAL\"),getFirstMatch(i[1],prepared_str,\"FAC\")]}))"
   ]
  },
  {
   "cell_type": "code",
   "execution_count": null,
   "id": "436127a4",
   "metadata": {},
   "outputs": [],
   "source": [
    "for i in list(zip(train_nos_sampled,train_names_sampled)):\n",
    "    prepared_str = name2number.replace(\"Y\",str(i[0])).replace(\"X\",i[1])\n",
    "    training_data.append((prepared_str,{\"entities\":[getFirstMatch(str(i[0]),prepared_str,\"CARDINAL\"),getFirstMatch(i[1],prepared_str,\"FAC\")]}))"
   ]
  },
  {
   "cell_type": "markdown",
   "id": "16ddef04",
   "metadata": {},
   "source": [
    "#### Creating training data for RouteCheck"
   ]
  },
  {
   "cell_type": "code",
   "execution_count": null,
   "id": "f7b2e121",
   "metadata": {},
   "outputs": [],
   "source": [
    "for i in range(10):\n",
    "    for qs in route_check:\n",
    "        station1 = random.choice(all_stations)\n",
    "        station2 = random.choice(all_stations)\n",
    "        prepared_str = qs.replace(\"X\",station1).replace(\"Y\",station2)\n",
    "        training_data.append((prepared_str,{\"entities\":[getFirstMatch(station1,prepared_str,\"GPE\"),getFirstMatch(station2,prepared_str,\"GPE\")]}))"
   ]
  },
  {
   "cell_type": "markdown",
   "id": "057b44ea",
   "metadata": {},
   "source": [
    "#### Storing the generated training data in a json document"
   ]
  },
  {
   "cell_type": "code",
   "execution_count": null,
   "id": "12f22d27",
   "metadata": {},
   "outputs": [],
   "source": [
    "with open(r'..\\data\\ner_training_data.json', 'w') as f:\n",
    "    json.dump({\"training_data\":training_data}, f)"
   ]
  },
  {
   "cell_type": "markdown",
   "id": "6cd3fc39",
   "metadata": {},
   "source": [
    "## Fine tuning the NER pipeline"
   ]
  },
  {
   "cell_type": "markdown",
   "id": "2422e244",
   "metadata": {},
   "source": [
    "### Loading the training data"
   ]
  },
  {
   "cell_type": "code",
   "execution_count": null,
   "id": "e9b2b14e",
   "metadata": {},
   "outputs": [],
   "source": [
    "training_data = json.load(open(r\"..\\data\\ner_training_data.json\",\"r\"))"
   ]
  },
  {
   "cell_type": "code",
   "execution_count": null,
   "id": "10f55e73",
   "metadata": {},
   "outputs": [],
   "source": [
    "training_data = training_data[\"training_data\"]"
   ]
  },
  {
   "cell_type": "code",
   "execution_count": null,
   "id": "eaf64437",
   "metadata": {},
   "outputs": [],
   "source": [
    "nlp = spacy.load(\"en_core_web_sm\")\n",
    "ner = nlp.get_pipe(\"ner\")"
   ]
  },
  {
   "cell_type": "code",
   "execution_count": null,
   "id": "a8a89558",
   "metadata": {},
   "outputs": [],
   "source": [
    "for _, annotations in training_data:\n",
    "  for ent in annotations.get(\"entities\"):\n",
    "    ner.add_label(ent[2])"
   ]
  },
  {
   "cell_type": "code",
   "execution_count": null,
   "id": "1e3ac49a",
   "metadata": {},
   "outputs": [],
   "source": [
    "pipe_exceptions = [\"ner\", \"trf_wordpiecer\", \"trf_tok2vec\"]\n",
    "unaffected_pipes = [pipe for pipe in nlp.pipe_names if pipe not in pipe_exceptions]"
   ]
  },
  {
   "cell_type": "code",
   "execution_count": null,
   "id": "fcf0ac06",
   "metadata": {},
   "outputs": [],
   "source": [
    "l = []\n",
    "with nlp.disable_pipes(*unaffected_pipes):\n",
    "  for iteration in range(60):\n",
    "    random.shuffle(training_data)\n",
    "    losses = {}\n",
    "    batches = minibatch(training_data, size=compounding(4.0, 32.0, 1.001))\n",
    "    for batch in batches:\n",
    "        for text, annotations in batch:\n",
    "         doc = nlp.make_doc(text)\n",
    "         example = Example.from_dict(doc, annotations)\n",
    "         nlp.update(\n",
    "                    [example],\n",
    "                    drop=0.5,\n",
    "                    losses=losses,\n",
    "                )\n",
    "        l.append(losses[\"ner\"])"
   ]
  },
  {
   "cell_type": "code",
   "execution_count": null,
   "id": "55c6dbe1",
   "metadata": {},
   "outputs": [
    {
     "data": {
      "image/png": "[encoded data removed]",
      "text/plain": [
       "<Figure size 432x288 with 1 Axes>"
      ]
     },
     "metadata": {
      "needs_background": "light"
     },
     "output_type": "display_data"
    }
   ],
   "source": [
    "plt.plot(list(range(len(l))),l)\n",
    "plt.xlabel(\"Iteration or Epoch\")\n",
    "plt.ylabel(\"Loss Function value\")\n",
    "plt.title(\"Loss of Backpropagation in Customised NER\")\n",
    "plt.show()"
   ]
  },
  {
   "cell_type": "code",
   "execution_count": null,
   "id": "c7cb1aee",
   "metadata": {},
   "outputs": [],
   "source": [
    "nlp.to_disk(\"../models/railways_ner\")"
   ]
  },
  {
   "cell_type": "code",
   "execution_count": 72,
   "id": "16b21925",
   "metadata": {},
   "outputs": [],
   "source": [
    "entities = nlp(qs).ents\n",
    "entities_with_labels = []"
   ]
  },
  {
   "cell_type": "code",
   "execution_count": 73,
   "id": "209ec9c4",
   "metadata": {},
   "outputs": [],
   "source": [
    "for i in entities:\n",
    "    entities_with_labels.append((i.label_,i.text))"
   ]
  },
  {
   "cell_type": "code",
   "execution_count": 74,
   "id": "491a2d92",
   "metadata": {},
   "outputs": [
    {
     "data": {
      "text/plain": [
       "[('CARDINAL', '9427'), ('FAC', 'Adi Ald Special')]"
      ]
     },
     "execution_count": 74,
     "metadata": {},
     "output_type": "execute_result"
    }
   ],
   "source": [
    "entities_with_labels"
   ]
  },
  {
   "cell_type": "markdown",
   "id": "6f0c498a",
   "metadata": {},
   "source": [
    "# Question Answering"
   ]
  },
  {
   "cell_type": "markdown",
   "id": "fac0a4a0",
   "metadata": {},
   "source": [
    "### Column-Intent Mapping"
   ]
  },
  {
   "cell_type": "code",
   "execution_count": 97,
   "id": "2b605397",
   "metadata": {},
   "outputs": [],
   "source": [
    "column_intent_mapping = {\n",
    "    \"TrainCheck\":[\"Train no.\",\"Train name\"],\n",
    "    \"RouteCheck\":[\"Starts\",\"Ends\"]\n",
    "}"
   ]
  },
  {
   "cell_type": "markdown",
   "id": "aa083429",
   "metadata": {},
   "source": [
    "### Intent Extraction"
   ]
  },
  {
   "cell_type": "code",
   "execution_count": 98,
   "id": "ad3e7ed8",
   "metadata": {},
   "outputs": [
    {
     "data": {
      "text/plain": [
       "{'TrainCheck': 0.708569796852156, 'RouteCheck': 0.466522582615974}"
      ]
     },
     "execution_count": 98,
     "metadata": {},
     "output_type": "execute_result"
    }
   ],
   "source": [
    "intent_similiarity"
   ]
  },
  {
   "cell_type": "code",
   "execution_count": 99,
   "id": "bf455fc0",
   "metadata": {},
   "outputs": [
    {
     "name": "stdout",
     "output_type": "stream",
     "text": [
      "TrainCheck\n"
     ]
    }
   ],
   "source": [
    "intent = max(zip(intent_similiarity.values(), intent_similiarity.keys()))[1]\n",
    "print(intent)"
   ]
  },
  {
   "cell_type": "code",
   "execution_count": 100,
   "id": "7a0a4e3d",
   "metadata": {},
   "outputs": [],
   "source": [
    "relevant_columns = column_intent_mapping[intent]"
   ]
  },
  {
   "cell_type": "code",
   "execution_count": 101,
   "id": "96e88465",
   "metadata": {},
   "outputs": [],
   "source": [
    "trains = pd.read_csv(\"..\\data\\All_Indian_Trains.csv\")"
   ]
  },
  {
   "cell_type": "code",
   "execution_count": 102,
   "id": "0d189545",
   "metadata": {},
   "outputs": [],
   "source": [
    "search_space = trains[relevant_columns]"
   ]
  },
  {
   "cell_type": "code",
   "execution_count": 103,
   "id": "8f58cc3d",
   "metadata": {},
   "outputs": [
    {
     "data": {
      "text/plain": [
       "{'CARDINAL': '9427', 'FAC': 'Adi Ald Special'}"
      ]
     },
     "execution_count": 103,
     "metadata": {},
     "output_type": "execute_result"
    }
   ],
   "source": [
    "dict(entities_with_labels)"
   ]
  },
  {
   "cell_type": "code",
   "execution_count": 104,
   "id": "9a3d700b",
   "metadata": {},
   "outputs": [],
   "source": [
    "if intent == \"RouteCheck\":\n",
    "   search_results = search_space.loc[(search_space['Starts'] == entities_with_labels[0][1]) & (search_space['Ends'] == entities_with_labels[1][1])]\n",
    "else:\n",
    "   entities_with_labels = dict(entities_with_labels)\n",
    "   search_results = search_space.loc[(search_space['Train no.'] == int(entities_with_labels[\"CARDINAL\"])) & (search_space['Train name'] == entities_with_labels[\"FAC\"])]"
   ]
  },
  {
   "cell_type": "code",
   "execution_count": 105,
   "id": "e9a813a2",
   "metadata": {},
   "outputs": [],
   "source": [
    "response = \"No\"\n",
    "if len(search_results) > 0:\n",
    "    response = \"Yes\""
   ]
  },
  {
   "cell_type": "code",
   "execution_count": 106,
   "id": "de19ea92",
   "metadata": {},
   "outputs": [
    {
     "data": {
      "text/plain": [
       "'Yes'"
      ]
     },
     "execution_count": 106,
     "metadata": {},
     "output_type": "execute_result"
    }
   ],
   "source": [
    "response"
   ]
  }
 ],
 "metadata": {
  "interpreter": {
   "hash": "e443b312e6feff0d396647a93eaaecfc37235aac750c756136fcbdcdbd11186d"
  },
  "kernelspec": {
   "display_name": "Python 3.9.1 64-bit",
   "language": "python",
   "name": "python3"
  },
  "language_info": {
   "codemirror_mode": {
    "name": "ipython",
    "version": 3
   },
   "file_extension": ".py",
   "mimetype": "text/x-python",
   "name": "python",
   "nbconvert_exporter": "python",
   "pygments_lexer": "ipython3",
   "version": "3.9.1"
  }
 },
 "nbformat": 4,
 "nbformat_minor": 5
}
