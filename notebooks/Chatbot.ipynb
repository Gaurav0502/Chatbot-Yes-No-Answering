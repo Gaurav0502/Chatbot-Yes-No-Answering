{
 "cells": [
  {
   "cell_type": "markdown",
   "id": "313a2451",
   "metadata": {},
   "source": [
    "# Importing the required modules"
   ]
  },
  {
   "cell_type": "code",
   "execution_count": 2,
   "id": "f0f0573d",
   "metadata": {},
   "outputs": [],
   "source": [
    "# Modules for data manipulation and visualisation.\n",
    "import pandas as pd\n",
    "import numpy as np\n",
    "import matplotlib.pyplot as plt\n",
    "\n",
    "# Module for handling json documents.\n",
    "import json\n",
    "\n",
    "# Modules for the NER and its customisation.\n",
    "import spacy\n",
    "from spacy.util import minibatch, compounding\n",
    "from spacy.training.example import Example\n",
    "from pathlib import Path\n",
    "from spacy import displacy\n",
    "\n",
    "# Module for matching regular expressions.\n",
    "import re\n",
    "\n",
    "# Module for suppressing warnings.\n",
    "import warnings \n",
    "warnings.filterwarnings('ignore')\n",
    "\n",
    "# Module for random sampling for training data.\n",
    "import random"
   ]
  },
  {
   "cell_type": "markdown",
   "id": "658813b9",
   "metadata": {},
   "source": [
    "# Mathematical working"
   ]
  },
  {
   "cell_type": "code",
   "execution_count": 9,
   "id": "a737b027",
   "metadata": {},
   "outputs": [],
   "source": [
    "nlp = spacy.load(\"en_core_web_sm\")\n",
    "question = nlp(\"Is there a train connection between Ahmedabad Junction and Mumbai Central?\")"
   ]
  },
  {
   "cell_type": "code",
   "execution_count": 19,
   "id": "7607214d",
   "metadata": {},
   "outputs": [
    {
     "name": "stdout",
     "output_type": "stream",
     "text": [
      "Norm of the vector 2.9139583\n"
     ]
    }
   ],
   "source": [
    "print(\"Norm of the vector\",norm(question.vector))"
   ]
  },
  {
   "cell_type": "code",
   "execution_count": 10,
   "id": "e8af1699",
   "metadata": {},
   "outputs": [
    {
     "data": {
      "text/plain": [
       "{'TrainCheck': ['Is X the train number of Y?', 'Does X have train number Y?'],\n",
       " 'RouteCheck': ['Are X and Y connected by rail?',\n",
       "  'Is there a train connecting X and Y?',\n",
       "  'X and Y have a rail connection?']}"
      ]
     },
     "execution_count": 10,
     "metadata": {},
     "output_type": "execute_result"
    }
   ],
   "source": [
    "data"
   ]
  },
  {
   "cell_type": "code",
   "execution_count": 28,
   "id": "22799832",
   "metadata": {},
   "outputs": [
    {
     "name": "stdout",
     "output_type": "stream",
     "text": [
      "Similiarity =  0.6798174503790722\n",
      "Norm of the vector 2.9979875 3.266782 9.793772 0.67981744\n",
      "Dot product  6.657977\n",
      "Similiarity =  0.46066697900465015\n",
      "Norm of the vector 2.9979875 3.6204815 10.854158 0.460667\n",
      "Dot product  5.0001526\n",
      "TrainCheck 1.1404844522476196 0.5702422261238098\n",
      "Similiarity =  0.6939928497733847\n",
      "Norm of the vector 2.9979875 3.1317286 9.388884 0.69399285\n",
      "Dot product  6.515818\n",
      "Similiarity =  0.737622320658129\n",
      "Norm of the vector 2.9979875 3.1211364 9.357128 0.7376223\n",
      "Dot product  6.9020267\n",
      "Similiarity =  0.5573778379995812\n",
      "Norm of the vector 2.9979875 2.9339004 8.795796 0.5573779\n",
      "Dot product  4.902582\n",
      "RouteCheck 1.9889930486679077 0.6629976828893026\n"
     ]
    }
   ],
   "source": [
    "for intent in data:\n",
    "    r = []\n",
    "    for qs in data[intent]:\n",
    "        y = nlp(qs)\n",
    "        \n",
    "        print(\"Similiarity = \",x.similarity(y))\n",
    "        print(\"Norm of the vector\", norm(x.vector),norm(y.vector),norm(x.vector)*norm(y.vector),np.dot(x.vector,y.vector)/(norm(x.vector)*norm(y.vector)))\n",
    "        print(\"Dot product \",np.dot(x.vector,y.vector))\n",
    "        r.append(np.dot(x.vector,y.vector)/(norm(x.vector)*norm(y.vector)))\n",
    "    print(intent,sum(r),sum(r)/len(r))"
   ]
  },
  {
   "cell_type": "code",
   "execution_count": 4,
   "id": "cc3f0780",
   "metadata": {},
   "outputs": [],
   "source": [
    "from numpy.linalg import norm"
   ]
  },
  {
   "cell_type": "code",
   "execution_count": 18,
   "id": "d1c13095",
   "metadata": {},
   "outputs": [
    {
     "data": {
      "text/plain": [
       "0.6798175"
      ]
     },
     "execution_count": 18,
     "metadata": {},
     "output_type": "execute_result"
    }
   ],
   "source": [
    "np.dot(x.vector,y.vector)/(norm(x.vector)*norm(y.vector))"
   ]
  },
  {
   "cell_type": "code",
   "execution_count": 11,
   "id": "82477518",
   "metadata": {},
   "outputs": [
    {
     "data": {
      "text/plain": [
       "0.6798174990668667"
      ]
     },
     "execution_count": 11,
     "metadata": {},
     "output_type": "execute_result"
    }
   ],
   "source": [
    "x.similarity(y)"
   ]
  },
  {
   "cell_type": "markdown",
   "id": "397f0914",
   "metadata": {},
   "source": [
    "# Question Input"
   ]
  },
  {
   "cell_type": "code",
   "execution_count": 91,
   "id": "e6784fe9",
   "metadata": {},
   "outputs": [],
   "source": [
    "qs = input()"
   ]
  },
  {
   "cell_type": "markdown",
   "id": "8cd836dd",
   "metadata": {},
   "source": [
    "# Intent Classification"
   ]
  },
  {
   "cell_type": "markdown",
   "id": "53705ec9",
   "metadata": {},
   "source": [
    "$$Cosine \\text{ Similiarity} = \\frac{a.b}{ \\| a\\|.\\|b\\|} $$\n",
    "\n",
    "<p>Overall Similiarity for TrainCheck intent is calculated by the mean of the cosine similiarity of each question under that intent.</p>\n",
    "\n",
    "$$\\text{Overall Similiarity for Train Check} = \\frac{1}{N_{TrainCheck}} \\sum_{k=0}^{N_{TrainCheck}} \\frac{a. b_{k} }{ \\| a\\|.\\|b_{k}\\|}$$\n",
    "\n",
    "<p>Overall Similiarity for RouteCheck intent is calculated by the mean of the cosine similiarity of each question under that intent.</p>\n",
    "\n",
    "$$\\text{Overall Similiarity for Route Check} = \\frac{1}{N_{RouteCheck}} \\sum_{k=0}^{N_{RouteCheck}} \\frac{a. b_{k} }{ \\| a\\|.\\|b_{k}\\|}$$\n",
    "\n",
    "<p>The intent with the maximum overall similiarity is assigned to the question.</p>"
   ]
  },
  {
   "cell_type": "code",
   "execution_count": 5,
   "id": "2bf16c76",
   "metadata": {},
   "outputs": [],
   "source": [
    "file = open(r\"..\\data\\intent_classification_data.json\")\n",
    "data = json.load(file)"
   ]
  },
  {
   "cell_type": "code",
   "execution_count": 6,
   "id": "9b32aa4d",
   "metadata": {},
   "outputs": [
    {
     "data": {
      "text/plain": [
       "{'TrainCheck': ['Is X the train number of Y?', 'Does X have train number Y?'],\n",
       " 'RouteCheck': ['Are X and Y connected by rail?',\n",
       "  'Is there a train connecting X and Y?',\n",
       "  'X and Y have a rail connection?']}"
      ]
     },
     "execution_count": 6,
     "metadata": {},
     "output_type": "execute_result"
    }
   ],
   "source": [
    "data"
   ]
  },
  {
   "cell_type": "code",
   "execution_count": 94,
   "id": "fdb8b9b7",
   "metadata": {},
   "outputs": [],
   "source": [
    "intent_similiarity = dict()"
   ]
  },
  {
   "cell_type": "code",
   "execution_count": 95,
   "id": "0176adfb",
   "metadata": {},
   "outputs": [],
   "source": [
    "def question_similiarity(sentence,question):\n",
    "    nlp = spacy.load(\"en_core_web_sm\")\n",
    "    sent = nlp(sentence)\n",
    "    q = nlp(question)\n",
    "    return sent.similarity(q)"
   ]
  },
  {
   "cell_type": "code",
   "execution_count": 96,
   "id": "523b7112",
   "metadata": {
    "scrolled": true
   },
   "outputs": [
    {
     "name": "stdout",
     "output_type": "stream",
     "text": [
      "{'TrainCheck': 0.708569796852156, 'RouteCheck': 0.466522582615974}\n"
     ]
    }
   ],
   "source": [
    "for i in data:\n",
    "    intent_similiarity[i] = np.mean(list(map(question_similiarity,data[i],[qs]*len(data[i]))))\n",
    "print(intent_similiarity)"
   ]
  },
  {
   "cell_type": "markdown",
   "id": "e8338078",
   "metadata": {},
   "source": [
    "# Entity Recognition"
   ]
  },
  {
   "cell_type": "markdown",
   "id": "de24e565",
   "metadata": {},
   "source": [
    "## Preparing training data"
   ]
  },
  {
   "cell_type": "markdown",
   "id": "df961991",
   "metadata": {},
   "source": [
    "<p>The entities used for this use-case:</p>\n",
    "<table>\n",
    "    <tr>\n",
    "        <th>Entity Type</th>\n",
    "        <th>Its Meaning</th>\n",
    "        <th>Used for</th>\n",
    "    </tr>\n",
    "    <tr>\n",
    "        <td>CARDINAL</td>\n",
    "        <td>Numerical Values that are not dates, \n",
    "            times, percent, money or quantity</td>\n",
    "        <td>Train Number</td>\n",
    "    </tr>\n",
    "    <tr>\n",
    "        <td>GPE</td>\n",
    "        <td>Geo-Political Entity</td>\n",
    "        <td>Stations</td>\n",
    "    </tr>\n",
    "    <tr>\n",
    "        <td>FAC</td>\n",
    "        <td>Facilites</td>\n",
    "        <td>Train Name</td>\n",
    "    </tr>\n",
    "</table>\n",
    "\n",
    "These entities labels were fine-tuned for the respective labels with their respective use case using Transfer Learning."
   ]
  },
  {
   "cell_type": "markdown",
   "id": "e13c5e8f",
   "metadata": {},
   "source": [
    "### Reading the dataset"
   ]
  },
  {
   "cell_type": "code",
   "execution_count": null,
   "id": "63c9a6fa",
   "metadata": {},
   "outputs": [],
   "source": [
    "trains = pd.read_csv(\"..\\data\\All_Indian_Trains.csv\")"
   ]
  },
  {
   "cell_type": "code",
   "execution_count": null,
   "id": "d5930645",
   "metadata": {},
   "outputs": [
    {
     "data": {
      "text/html": [
       "<div>\n",
       "<style scoped>\n",
       "    .dataframe tbody tr th:only-of-type {\n",
       "        vertical-align: middle;\n",
       "    }\n",
       "\n",
       "    .dataframe tbody tr th {\n",
       "        vertical-align: top;\n",
       "    }\n",
       "\n",
       "    .dataframe thead th {\n",
       "        text-align: right;\n",
       "    }\n",
       "</style>\n",
       "<table border=\"1\" class=\"dataframe\">\n",
       "  <thead>\n",
       "    <tr style=\"text-align: right;\">\n",
       "      <th></th>\n",
       "      <th>Unnamed: 0</th>\n",
       "      <th>Train no.</th>\n",
       "      <th>Train name</th>\n",
       "      <th>Starts</th>\n",
       "      <th>Ends</th>\n",
       "    </tr>\n",
       "  </thead>\n",
       "  <tbody>\n",
       "    <tr>\n",
       "      <th>0</th>\n",
       "      <td>0</td>\n",
       "      <td>12723</td>\n",
       "      <td>Andhra Pradesh Express</td>\n",
       "      <td>Hyderabad Decan</td>\n",
       "      <td>New Delhi</td>\n",
       "    </tr>\n",
       "    <tr>\n",
       "      <th>1</th>\n",
       "      <td>1</td>\n",
       "      <td>22416</td>\n",
       "      <td>Andhra Pradesh Express</td>\n",
       "      <td>New Delhi</td>\n",
       "      <td>Vishakapatnam</td>\n",
       "    </tr>\n",
       "    <tr>\n",
       "      <th>2</th>\n",
       "      <td>2</td>\n",
       "      <td>12724</td>\n",
       "      <td>Andhra Pradesh Express</td>\n",
       "      <td>New Delhi</td>\n",
       "      <td>Hyderabad Decan</td>\n",
       "    </tr>\n",
       "    <tr>\n",
       "      <th>3</th>\n",
       "      <td>3</td>\n",
       "      <td>12707</td>\n",
       "      <td>Andhra Pradesh Sampark Kranti</td>\n",
       "      <td>Tirupati</td>\n",
       "      <td>H Nizamuddin</td>\n",
       "    </tr>\n",
       "    <tr>\n",
       "      <th>4</th>\n",
       "      <td>4</td>\n",
       "      <td>15909</td>\n",
       "      <td>Abadh Assam Express</td>\n",
       "      <td>New Tinsukia Junction</td>\n",
       "      <td>Darbhanga Junction</td>\n",
       "    </tr>\n",
       "  </tbody>\n",
       "</table>\n",
       "</div>"
      ],
      "text/plain": [
       "   Unnamed: 0  Train no.                     Train name  \\\n",
       "0           0      12723         Andhra Pradesh Express   \n",
       "1           1      22416         Andhra Pradesh Express   \n",
       "2           2      12724         Andhra Pradesh Express   \n",
       "3           3      12707  Andhra Pradesh Sampark Kranti   \n",
       "4           4      15909            Abadh Assam Express   \n",
       "\n",
       "                  Starts                Ends  \n",
       "0        Hyderabad Decan           New Delhi  \n",
       "1              New Delhi       Vishakapatnam  \n",
       "2              New Delhi     Hyderabad Decan  \n",
       "3               Tirupati        H Nizamuddin  \n",
       "4  New Tinsukia Junction  Darbhanga Junction  "
      ]
     },
     "execution_count": 91,
     "metadata": {},
     "output_type": "execute_result"
    }
   ],
   "source": [
    "trains.head()"
   ]
  },
  {
   "cell_type": "code",
   "execution_count": null,
   "id": "63a207e9",
   "metadata": {},
   "outputs": [],
   "source": [
    "trains = trains.drop([\"Unnamed: 0\"],axis=1)"
   ]
  },
  {
   "cell_type": "code",
   "execution_count": null,
   "id": "46d54150",
   "metadata": {},
   "outputs": [
    {
     "data": {
      "text/html": [
       "<div>\n",
       "<style scoped>\n",
       "    .dataframe tbody tr th:only-of-type {\n",
       "        vertical-align: middle;\n",
       "    }\n",
       "\n",
       "    .dataframe tbody tr th {\n",
       "        vertical-align: top;\n",
       "    }\n",
       "\n",
       "    .dataframe thead th {\n",
       "        text-align: right;\n",
       "    }\n",
       "</style>\n",
       "<table border=\"1\" class=\"dataframe\">\n",
       "  <thead>\n",
       "    <tr style=\"text-align: right;\">\n",
       "      <th></th>\n",
       "      <th>Train no.</th>\n",
       "      <th>Train name</th>\n",
       "      <th>Starts</th>\n",
       "      <th>Ends</th>\n",
       "    </tr>\n",
       "  </thead>\n",
       "  <tbody>\n",
       "    <tr>\n",
       "      <th>0</th>\n",
       "      <td>12723</td>\n",
       "      <td>Andhra Pradesh Express</td>\n",
       "      <td>Hyderabad Decan</td>\n",
       "      <td>New Delhi</td>\n",
       "    </tr>\n",
       "    <tr>\n",
       "      <th>1</th>\n",
       "      <td>22416</td>\n",
       "      <td>Andhra Pradesh Express</td>\n",
       "      <td>New Delhi</td>\n",
       "      <td>Vishakapatnam</td>\n",
       "    </tr>\n",
       "    <tr>\n",
       "      <th>2</th>\n",
       "      <td>12724</td>\n",
       "      <td>Andhra Pradesh Express</td>\n",
       "      <td>New Delhi</td>\n",
       "      <td>Hyderabad Decan</td>\n",
       "    </tr>\n",
       "    <tr>\n",
       "      <th>3</th>\n",
       "      <td>12707</td>\n",
       "      <td>Andhra Pradesh Sampark Kranti</td>\n",
       "      <td>Tirupati</td>\n",
       "      <td>H Nizamuddin</td>\n",
       "    </tr>\n",
       "    <tr>\n",
       "      <th>4</th>\n",
       "      <td>15909</td>\n",
       "      <td>Abadh Assam Express</td>\n",
       "      <td>New Tinsukia Junction</td>\n",
       "      <td>Darbhanga Junction</td>\n",
       "    </tr>\n",
       "  </tbody>\n",
       "</table>\n",
       "</div>"
      ],
      "text/plain": [
       "   Train no.                     Train name                 Starts  \\\n",
       "0      12723         Andhra Pradesh Express        Hyderabad Decan   \n",
       "1      22416         Andhra Pradesh Express              New Delhi   \n",
       "2      12724         Andhra Pradesh Express              New Delhi   \n",
       "3      12707  Andhra Pradesh Sampark Kranti               Tirupati   \n",
       "4      15909            Abadh Assam Express  New Tinsukia Junction   \n",
       "\n",
       "                 Ends  \n",
       "0           New Delhi  \n",
       "1       Vishakapatnam  \n",
       "2     Hyderabad Decan  \n",
       "3        H Nizamuddin  \n",
       "4  Darbhanga Junction  "
      ]
     },
     "execution_count": 93,
     "metadata": {},
     "output_type": "execute_result"
    }
   ],
   "source": [
    "trains.head()"
   ]
  },
  {
   "cell_type": "markdown",
   "id": "8e32a0f6",
   "metadata": {},
   "source": [
    "### Seggragating different forms of questions"
   ]
  },
  {
   "cell_type": "code",
   "execution_count": null,
   "id": "64b2d785",
   "metadata": {},
   "outputs": [],
   "source": [
    "num2name = data[\"TrainCheck\"][0]\n",
    "name2number = data[\"TrainCheck\"][1]\n",
    "route_check = data[\"RouteCheck\"]"
   ]
  },
  {
   "cell_type": "markdown",
   "id": "13d3b4ad",
   "metadata": {},
   "source": [
    "### All the available unique entities in the dataset"
   ]
  },
  {
   "cell_type": "code",
   "execution_count": null,
   "id": "02ba309a",
   "metadata": {},
   "outputs": [],
   "source": [
    "all_train_nos = list(set(trains[\"Train no.\"]))\n",
    "all_train_names = list(set(trains[\"Train name\"]))\n",
    "all_stations = list(set(list(trains[\"Starts\"])+list(trains[\"Ends\"])))"
   ]
  },
  {
   "cell_type": "markdown",
   "id": "1325aa2d",
   "metadata": {},
   "source": [
    "### Data Augmentation"
   ]
  },
  {
   "cell_type": "code",
   "execution_count": null,
   "id": "f23266b2",
   "metadata": {},
   "outputs": [],
   "source": [
    "training_data = []"
   ]
  },
  {
   "cell_type": "markdown",
   "id": "4c35e565",
   "metadata": {},
   "source": [
    "#### Randomly sampling 20 entries of train numbers and names"
   ]
  },
  {
   "cell_type": "code",
   "execution_count": null,
   "id": "05432cac",
   "metadata": {},
   "outputs": [],
   "source": [
    "train_nos_sampled = random.sample(all_train_nos,20)"
   ]
  },
  {
   "cell_type": "code",
   "execution_count": null,
   "id": "c76bfec5",
   "metadata": {},
   "outputs": [],
   "source": [
    "train_names_sampled = random.sample(all_train_names,20)"
   ]
  },
  {
   "cell_type": "markdown",
   "id": "765c495f",
   "metadata": {},
   "source": [
    "#### Creating training data for TrainCheck"
   ]
  },
  {
   "cell_type": "code",
   "execution_count": null,
   "id": "19967b31",
   "metadata": {},
   "outputs": [],
   "source": [
    "for i in list(zip(train_nos_sampled,train_names_sampled)):\n",
    "    prepared_str = num2name.replace(\"X\",str(i[0])).replace(\"Y\",i[1])\n",
    "    training_data.append((prepared_str,{\"entities\":[getFirstMatch(str(i[0]),prepared_str,\"CARDINAL\"),getFirstMatch(i[1],prepared_str,\"FAC\")]}))"
   ]
  },
  {
   "cell_type": "code",
   "execution_count": null,
   "id": "436127a4",
   "metadata": {},
   "outputs": [],
   "source": [
    "for i in list(zip(train_nos_sampled,train_names_sampled)):\n",
    "    prepared_str = name2number.replace(\"Y\",str(i[0])).replace(\"X\",i[1])\n",
    "    training_data.append((prepared_str,{\"entities\":[getFirstMatch(str(i[0]),prepared_str,\"CARDINAL\"),getFirstMatch(i[1],prepared_str,\"FAC\")]}))"
   ]
  },
  {
   "cell_type": "markdown",
   "id": "16ddef04",
   "metadata": {},
   "source": [
    "#### Creating training data for RouteCheck"
   ]
  },
  {
   "cell_type": "code",
   "execution_count": null,
   "id": "f7b2e121",
   "metadata": {},
   "outputs": [],
   "source": [
    "for i in range(10):\n",
    "    for qs in route_check:\n",
    "        station1 = random.choice(all_stations)\n",
    "        station2 = random.choice(all_stations)\n",
    "        prepared_str = qs.replace(\"X\",station1).replace(\"Y\",station2)\n",
    "        training_data.append((prepared_str,{\"entities\":[getFirstMatch(station1,prepared_str,\"GPE\"),getFirstMatch(station2,prepared_str,\"GPE\")]}))"
   ]
  },
  {
   "cell_type": "markdown",
   "id": "057b44ea",
   "metadata": {},
   "source": [
    "#### Storing the generated training data in a json document"
   ]
  },
  {
   "cell_type": "code",
   "execution_count": null,
   "id": "12f22d27",
   "metadata": {},
   "outputs": [],
   "source": [
    "with open(r'..\\data\\ner_training_data.json', 'w') as f:\n",
    "    json.dump({\"training_data\":training_data}, f)"
   ]
  },
  {
   "cell_type": "markdown",
   "id": "6cd3fc39",
   "metadata": {},
   "source": [
    "## Fine tuning the NER pipeline"
   ]
  },
  {
   "cell_type": "markdown",
   "id": "2422e244",
   "metadata": {},
   "source": [
    "### Loading the training data"
   ]
  },
  {
   "cell_type": "code",
   "execution_count": 3,
   "id": "e9b2b14e",
   "metadata": {},
   "outputs": [],
   "source": [
    "training_data = json.load(open(r\"..\\data\\ner_training_data.json\",\"r\"))"
   ]
  },
  {
   "cell_type": "code",
   "execution_count": 4,
   "id": "10f55e73",
   "metadata": {},
   "outputs": [],
   "source": [
    "training_data = training_data[\"training_data\"]"
   ]
  },
  {
   "cell_type": "code",
   "execution_count": 5,
   "id": "005daa94",
   "metadata": {},
   "outputs": [
    {
     "data": {
      "text/plain": [
       "60"
      ]
     },
     "execution_count": 5,
     "metadata": {},
     "output_type": "execute_result"
    }
   ],
   "source": [
    "len(training_data)"
   ]
  },
  {
   "cell_type": "code",
   "execution_count": null,
   "id": "eaf64437",
   "metadata": {},
   "outputs": [],
   "source": [
    "nlp = spacy.load(\"en_core_web_sm\")\n",
    "ner = nlp.get_pipe(\"ner\")"
   ]
  },
  {
   "cell_type": "code",
   "execution_count": null,
   "id": "a8a89558",
   "metadata": {},
   "outputs": [],
   "source": [
    "for _, annotations in training_data:\n",
    "  for ent in annotations.get(\"entities\"):\n",
    "    ner.add_label(ent[2])"
   ]
  },
  {
   "cell_type": "code",
   "execution_count": null,
   "id": "1e3ac49a",
   "metadata": {},
   "outputs": [],
   "source": [
    "pipe_exceptions = [\"ner\", \"trf_wordpiecer\", \"trf_tok2vec\"]\n",
    "unaffected_pipes = [pipe for pipe in nlp.pipe_names if pipe not in pipe_exceptions]"
   ]
  },
  {
   "cell_type": "markdown",
   "id": "6ca5f059",
   "metadata": {},
   "source": [
    "Here, we are customising the default NER model of spacy to fine tune it for this particular use-case.\n",
    "- Disabling unaffected pipes.\n",
    "- Random Shuffling of the training data.\n",
    "- Using mini-batch learning to training the neural network.\n",
    "- Using the label data and updating the nlp pipeline with a particular example."
   ]
  },
  {
   "cell_type": "code",
   "execution_count": null,
   "id": "fcf0ac06",
   "metadata": {},
   "outputs": [],
   "source": [
    "l = []\n",
    "with nlp.disable_pipes(*unaffected_pipes):\n",
    "  for iteration in range(60):\n",
    "    random.shuffle(training_data)\n",
    "    losses = {}\n",
    "    batches = minibatch(training_data, size=compounding(4.0, 32.0, 1.001))\n",
    "    for batch in batches:\n",
    "        for text, annotations in batch:\n",
    "         doc = nlp.make_doc(text)\n",
    "         example = Example.from_dict(doc, annotations)\n",
    "         nlp.update(\n",
    "                    [example],\n",
    "                    drop=0.5,\n",
    "                    losses=losses,\n",
    "                )\n",
    "        l.append(losses[\"ner\"])"
   ]
  },
  {
   "cell_type": "markdown",
   "id": "3efcf637",
   "metadata": {},
   "source": [
    "### Backpropagation loss of Customisation of NER"
   ]
  },
  {
   "cell_type": "code",
   "execution_count": null,
   "id": "55c6dbe1",
   "metadata": {},
   "outputs": [
    {
     "data": {
      "image/png": "[encoded data removed]",
      "text/plain": [
       "<Figure size 432x288 with 1 Axes>"
      ]
     },
     "metadata": {
      "needs_background": "light"
     },
     "output_type": "display_data"
    }
   ],
   "source": [
    "plt.plot(list(range(len(l))),l)\n",
    "plt.xlabel(\"Iteration or Epoch\")\n",
    "plt.ylabel(\"Loss Function value\")\n",
    "plt.title(\"Loss of Backpropagation in Customised NER\")\n",
    "plt.show()"
   ]
  },
  {
   "cell_type": "markdown",
   "id": "7f6f2bad",
   "metadata": {},
   "source": [
    "### Mini-Batch Learning"
   ]
  },
  {
   "cell_type": "code",
   "execution_count": 6,
   "id": "c3efed03",
   "metadata": {},
   "outputs": [],
   "source": [
    "batches = minibatch(training_data, size=compounding(4.0, 32.0, 1.001))"
   ]
  },
  {
   "cell_type": "code",
   "execution_count": 7,
   "id": "e2bce34f",
   "metadata": {},
   "outputs": [
    {
     "name": "stdout",
     "output_type": "stream",
     "text": [
      "4\n",
      "4\n",
      "4\n",
      "4\n",
      "4\n",
      "4\n",
      "4\n",
      "4\n",
      "4\n",
      "4\n",
      "4\n",
      "4\n",
      "4\n",
      "4\n",
      "4\n"
     ]
    }
   ],
   "source": [
    "for i in batches:\n",
    "    print(len(i))"
   ]
  },
  {
   "cell_type": "code",
   "execution_count": 2,
   "id": "c238784c",
   "metadata": {},
   "outputs": [],
   "source": [
    "size=compounding(4.0, 32.0, 1.001)"
   ]
  },
  {
   "cell_type": "code",
   "execution_count": 3,
   "id": "7656ff2a",
   "metadata": {},
   "outputs": [],
   "source": [
    "batch_sizes = []\n",
    "while True:\n",
    "   next_size = next(size)\n",
    "   if next_size == 32.0:\n",
    "      break\n",
    "   else:\n",
    "      batch_sizes.append(next_size)"
   ]
  },
  {
   "cell_type": "code",
   "execution_count": 4,
   "id": "67e61dce",
   "metadata": {},
   "outputs": [
    {
     "data": {
      "text/plain": [
       "[<matplotlib.lines.Line2D at 0x24340c840a0>]"
      ]
     },
     "execution_count": 4,
     "metadata": {},
     "output_type": "execute_result"
    },
    {
     "data": {
      "image/png": "[encoded data removed]",
      "text/plain": [
       "<Figure size 432x288 with 1 Axes>"
      ]
     },
     "metadata": {
      "needs_background": "light"
     },
     "output_type": "display_data"
    }
   ],
   "source": [
    "plt.plot(batch_sizes+[32]*(10**3))"
   ]
  },
  {
   "cell_type": "markdown",
   "id": "b1365a22",
   "metadata": {},
   "source": [
    "### Saving the NER model"
   ]
  },
  {
   "cell_type": "code",
   "execution_count": null,
   "id": "c7cb1aee",
   "metadata": {},
   "outputs": [],
   "source": [
    "nlp.to_disk(\"../models/railways_ner\")"
   ]
  },
  {
   "cell_type": "markdown",
   "id": "c77b9fd4",
   "metadata": {},
   "source": [
    "### Sample Outputs of NER model"
   ]
  },
  {
   "cell_type": "code",
   "execution_count": 3,
   "id": "eb09598c",
   "metadata": {},
   "outputs": [],
   "source": [
    "nlp = spacy.load(\"../models/railways_ner\")\n",
    "old_nlp = spacy.load(\"en_core_web_sm\")"
   ]
  },
  {
   "cell_type": "code",
   "execution_count": 4,
   "id": "fc53bf5a",
   "metadata": {},
   "outputs": [],
   "source": [
    "x = nlp(\"Is there a train connection between Ahmedabad Junction and Mumbai Central?\")\n",
    "y = old_nlp(\"Is there a train connection between Ahmedabad Junction and Mumbai Central?\")"
   ]
  },
  {
   "cell_type": "code",
   "execution_count": 5,
   "id": "6534a485",
   "metadata": {},
   "outputs": [
    {
     "data": {
      "text/html": [
       "<span class=\"tex2jax_ignore\"><div class=\"entities\" style=\"line-height: 2.5; direction: ltr\">Is there a train connection between \n",
       "<mark class=\"entity\" style=\"background: #feca74; padding: 0.45em 0.6em; margin: 0 0.25em; line-height: 1; border-radius: 0.35em;\">\n",
       "    Ahmedabad Junction\n",
       "    <span style=\"font-size: 0.8em; font-weight: bold; line-height: 1; border-radius: 0.35em; vertical-align: middle; margin-left: 0.5rem\">GPE</span>\n",
       "</mark>\n",
       " and \n",
       "<mark class=\"entity\" style=\"background: #feca74; padding: 0.45em 0.6em; margin: 0 0.25em; line-height: 1; border-radius: 0.35em;\">\n",
       "    Mumbai Central\n",
       "    <span style=\"font-size: 0.8em; font-weight: bold; line-height: 1; border-radius: 0.35em; vertical-align: middle; margin-left: 0.5rem\">GPE</span>\n",
       "</mark>\n",
       "?</div></span>"
      ],
      "text/plain": [
       "<IPython.core.display.HTML object>"
      ]
     },
     "metadata": {},
     "output_type": "display_data"
    }
   ],
   "source": [
    " displacy.render(x,\"ent\")"
   ]
  },
  {
   "cell_type": "code",
   "execution_count": 6,
   "id": "0bdfc513",
   "metadata": {},
   "outputs": [
    {
     "data": {
      "text/html": [
       "<span class=\"tex2jax_ignore\"><div class=\"entities\" style=\"line-height: 2.5; direction: ltr\">Is there a train connection between \n",
       "<mark class=\"entity\" style=\"background: #7aecec; padding: 0.45em 0.6em; margin: 0 0.25em; line-height: 1; border-radius: 0.35em;\">\n",
       "    Ahmedabad Junction\n",
       "    <span style=\"font-size: 0.8em; font-weight: bold; line-height: 1; border-radius: 0.35em; vertical-align: middle; margin-left: 0.5rem\">ORG</span>\n",
       "</mark>\n",
       " and \n",
       "<mark class=\"entity\" style=\"background: #7aecec; padding: 0.45em 0.6em; margin: 0 0.25em; line-height: 1; border-radius: 0.35em;\">\n",
       "    Mumbai Central\n",
       "    <span style=\"font-size: 0.8em; font-weight: bold; line-height: 1; border-radius: 0.35em; vertical-align: middle; margin-left: 0.5rem\">ORG</span>\n",
       "</mark>\n",
       "?</div></span>"
      ],
      "text/plain": [
       "<IPython.core.display.HTML object>"
      ]
     },
     "metadata": {},
     "output_type": "display_data"
    }
   ],
   "source": [
    " displacy.render(y,\"ent\")\n"
   ]
  },
  {
   "cell_type": "code",
   "execution_count": 25,
   "id": "74306f9d",
   "metadata": {},
   "outputs": [],
   "source": [
    "questions=[\n",
    "    \"Is there any train connectivity between New Delhi and Kolkata?\",\n",
    "    \"Is 12345 the train number of XYZ Express?\",\n",
    "    \"Does Bdts Jp Superfast Express have train number 22933?\",\n",
    "    \"Are Bandra Terminus and H Nizamuddin connected by rail?\",\n",
    "    \"The Beas Sre Special with train number 4918 connects Beas and Saharanpur\",\n",
    "    \"Are there any trains from Kanpur Central to Durg?\",\n",
    "    \"Are any trains scheduled between Kolkata and Mumbai CST?\",\n",
    "    \"Is Jodhpur Junction connected with Valsad by rail?\"\n",
    "]"
   ]
  },
  {
   "cell_type": "markdown",
   "id": "9f61fef5",
   "metadata": {},
   "source": [
    "#### Output using the default NER"
   ]
  },
  {
   "cell_type": "code",
   "execution_count": 26,
   "id": "b8ae4566",
   "metadata": {},
   "outputs": [
    {
     "data": {
      "text/html": [
       "<span class=\"tex2jax_ignore\"><div class=\"entities\" style=\"line-height: 2.5; direction: ltr\">Is there any train connectivity between \n",
       "<mark class=\"entity\" style=\"background: #feca74; padding: 0.45em 0.6em; margin: 0 0.25em; line-height: 1; border-radius: 0.35em;\">\n",
       "    New Delhi\n",
       "    <span style=\"font-size: 0.8em; font-weight: bold; line-height: 1; border-radius: 0.35em; vertical-align: middle; margin-left: 0.5rem\">GPE</span>\n",
       "</mark>\n",
       " and \n",
       "<mark class=\"entity\" style=\"background: #feca74; padding: 0.45em 0.6em; margin: 0 0.25em; line-height: 1; border-radius: 0.35em;\">\n",
       "    Kolkata\n",
       "    <span style=\"font-size: 0.8em; font-weight: bold; line-height: 1; border-radius: 0.35em; vertical-align: middle; margin-left: 0.5rem\">GPE</span>\n",
       "</mark>\n",
       "?</div></span>"
      ],
      "text/plain": [
       "<IPython.core.display.HTML object>"
      ]
     },
     "metadata": {},
     "output_type": "display_data"
    },
    {
     "data": {
      "text/html": [
       "<span class=\"tex2jax_ignore\"><div class=\"entities\" style=\"line-height: 2.5; direction: ltr\">Is \n",
       "<mark class=\"entity\" style=\"background: #bfe1d9; padding: 0.45em 0.6em; margin: 0 0.25em; line-height: 1; border-radius: 0.35em;\">\n",
       "    12345\n",
       "    <span style=\"font-size: 0.8em; font-weight: bold; line-height: 1; border-radius: 0.35em; vertical-align: middle; margin-left: 0.5rem\">DATE</span>\n",
       "</mark>\n",
       " the train number of \n",
       "<mark class=\"entity\" style=\"background: #7aecec; padding: 0.45em 0.6em; margin: 0 0.25em; line-height: 1; border-radius: 0.35em;\">\n",
       "    XYZ Express\n",
       "    <span style=\"font-size: 0.8em; font-weight: bold; line-height: 1; border-radius: 0.35em; vertical-align: middle; margin-left: 0.5rem\">ORG</span>\n",
       "</mark>\n",
       "?</div></span>"
      ],
      "text/plain": [
       "<IPython.core.display.HTML object>"
      ]
     },
     "metadata": {},
     "output_type": "display_data"
    },
    {
     "data": {
      "text/html": [
       "<span class=\"tex2jax_ignore\"><div class=\"entities\" style=\"line-height: 2.5; direction: ltr\">Does Bdts Jp Superfast Express have train number \n",
       "<mark class=\"entity\" style=\"background: #bfe1d9; padding: 0.45em 0.6em; margin: 0 0.25em; line-height: 1; border-radius: 0.35em;\">\n",
       "    22933\n",
       "    <span style=\"font-size: 0.8em; font-weight: bold; line-height: 1; border-radius: 0.35em; vertical-align: middle; margin-left: 0.5rem\">DATE</span>\n",
       "</mark>\n",
       "?</div></span>"
      ],
      "text/plain": [
       "<IPython.core.display.HTML object>"
      ]
     },
     "metadata": {},
     "output_type": "display_data"
    },
    {
     "data": {
      "text/html": [
       "<span class=\"tex2jax_ignore\"><div class=\"entities\" style=\"line-height: 2.5; direction: ltr\">Are \n",
       "<mark class=\"entity\" style=\"background: #aa9cfc; padding: 0.45em 0.6em; margin: 0 0.25em; line-height: 1; border-radius: 0.35em;\">\n",
       "    Bandra Terminus\n",
       "    <span style=\"font-size: 0.8em; font-weight: bold; line-height: 1; border-radius: 0.35em; vertical-align: middle; margin-left: 0.5rem\">PERSON</span>\n",
       "</mark>\n",
       " and \n",
       "<mark class=\"entity\" style=\"background: #7aecec; padding: 0.45em 0.6em; margin: 0 0.25em; line-height: 1; border-radius: 0.35em;\">\n",
       "    H Nizamuddin\n",
       "    <span style=\"font-size: 0.8em; font-weight: bold; line-height: 1; border-radius: 0.35em; vertical-align: middle; margin-left: 0.5rem\">ORG</span>\n",
       "</mark>\n",
       " connected by rail?</div></span>"
      ],
      "text/plain": [
       "<IPython.core.display.HTML object>"
      ]
     },
     "metadata": {},
     "output_type": "display_data"
    },
    {
     "data": {
      "text/html": [
       "<span class=\"tex2jax_ignore\"><div class=\"entities\" style=\"line-height: 2.5; direction: ltr\">\n",
       "<mark class=\"entity\" style=\"background: #f0d0ff; padding: 0.45em 0.6em; margin: 0 0.25em; line-height: 1; border-radius: 0.35em;\">\n",
       "    The Beas Sre Special\n",
       "    <span style=\"font-size: 0.8em; font-weight: bold; line-height: 1; border-radius: 0.35em; vertical-align: middle; margin-left: 0.5rem\">WORK_OF_ART</span>\n",
       "</mark>\n",
       " with train number \n",
       "<mark class=\"entity\" style=\"background: #e4e7d2; padding: 0.45em 0.6em; margin: 0 0.25em; line-height: 1; border-radius: 0.35em;\">\n",
       "    4918\n",
       "    <span style=\"font-size: 0.8em; font-weight: bold; line-height: 1; border-radius: 0.35em; vertical-align: middle; margin-left: 0.5rem\">CARDINAL</span>\n",
       "</mark>\n",
       " connects Beas and \n",
       "<mark class=\"entity\" style=\"background: #feca74; padding: 0.45em 0.6em; margin: 0 0.25em; line-height: 1; border-radius: 0.35em;\">\n",
       "    Saharanpur\n",
       "    <span style=\"font-size: 0.8em; font-weight: bold; line-height: 1; border-radius: 0.35em; vertical-align: middle; margin-left: 0.5rem\">GPE</span>\n",
       "</mark>\n",
       "</div></span>"
      ],
      "text/plain": [
       "<IPython.core.display.HTML object>"
      ]
     },
     "metadata": {},
     "output_type": "display_data"
    },
    {
     "data": {
      "text/html": [
       "<span class=\"tex2jax_ignore\"><div class=\"entities\" style=\"line-height: 2.5; direction: ltr\">Are there any trains from \n",
       "<mark class=\"entity\" style=\"background: #7aecec; padding: 0.45em 0.6em; margin: 0 0.25em; line-height: 1; border-radius: 0.35em;\">\n",
       "    Kanpur Central\n",
       "    <span style=\"font-size: 0.8em; font-weight: bold; line-height: 1; border-radius: 0.35em; vertical-align: middle; margin-left: 0.5rem\">ORG</span>\n",
       "</mark>\n",
       " to \n",
       "<mark class=\"entity\" style=\"background: #feca74; padding: 0.45em 0.6em; margin: 0 0.25em; line-height: 1; border-radius: 0.35em;\">\n",
       "    Durg\n",
       "    <span style=\"font-size: 0.8em; font-weight: bold; line-height: 1; border-radius: 0.35em; vertical-align: middle; margin-left: 0.5rem\">GPE</span>\n",
       "</mark>\n",
       "?</div></span>"
      ],
      "text/plain": [
       "<IPython.core.display.HTML object>"
      ]
     },
     "metadata": {},
     "output_type": "display_data"
    },
    {
     "data": {
      "text/html": [
       "<span class=\"tex2jax_ignore\"><div class=\"entities\" style=\"line-height: 2.5; direction: ltr\">Are any trains scheduled between \n",
       "<mark class=\"entity\" style=\"background: #feca74; padding: 0.45em 0.6em; margin: 0 0.25em; line-height: 1; border-radius: 0.35em;\">\n",
       "    Kolkata\n",
       "    <span style=\"font-size: 0.8em; font-weight: bold; line-height: 1; border-radius: 0.35em; vertical-align: middle; margin-left: 0.5rem\">GPE</span>\n",
       "</mark>\n",
       " and \n",
       "<mark class=\"entity\" style=\"background: #feca74; padding: 0.45em 0.6em; margin: 0 0.25em; line-height: 1; border-radius: 0.35em;\">\n",
       "    Mumbai\n",
       "    <span style=\"font-size: 0.8em; font-weight: bold; line-height: 1; border-radius: 0.35em; vertical-align: middle; margin-left: 0.5rem\">GPE</span>\n",
       "</mark>\n",
       " CST?</div></span>"
      ],
      "text/plain": [
       "<IPython.core.display.HTML object>"
      ]
     },
     "metadata": {},
     "output_type": "display_data"
    },
    {
     "data": {
      "text/html": [
       "<span class=\"tex2jax_ignore\"><div class=\"entities\" style=\"line-height: 2.5; direction: ltr\">Is Jodhpur Junction connected with \n",
       "<mark class=\"entity\" style=\"background: #7aecec; padding: 0.45em 0.6em; margin: 0 0.25em; line-height: 1; border-radius: 0.35em;\">\n",
       "    Valsad\n",
       "    <span style=\"font-size: 0.8em; font-weight: bold; line-height: 1; border-radius: 0.35em; vertical-align: middle; margin-left: 0.5rem\">ORG</span>\n",
       "</mark>\n",
       " by rail?</div></span>"
      ],
      "text/plain": [
       "<IPython.core.display.HTML object>"
      ]
     },
     "metadata": {},
     "output_type": "display_data"
    }
   ],
   "source": [
    "for i in questions:\n",
    " x = old_nlp(i)\n",
    " displacy.render(x,\"ent\")"
   ]
  },
  {
   "cell_type": "markdown",
   "id": "6934f756",
   "metadata": {},
   "source": [
    "#### Output using customised NER"
   ]
  },
  {
   "cell_type": "code",
   "execution_count": 27,
   "id": "4b9bc575",
   "metadata": {},
   "outputs": [
    {
     "data": {
      "text/html": [
       "<span class=\"tex2jax_ignore\"><div class=\"entities\" style=\"line-height: 2.5; direction: ltr\">Is there any train connectivity between \n",
       "<mark class=\"entity\" style=\"background: #feca74; padding: 0.45em 0.6em; margin: 0 0.25em; line-height: 1; border-radius: 0.35em;\">\n",
       "    New Delhi\n",
       "    <span style=\"font-size: 0.8em; font-weight: bold; line-height: 1; border-radius: 0.35em; vertical-align: middle; margin-left: 0.5rem\">GPE</span>\n",
       "</mark>\n",
       " and \n",
       "<mark class=\"entity\" style=\"background: #feca74; padding: 0.45em 0.6em; margin: 0 0.25em; line-height: 1; border-radius: 0.35em;\">\n",
       "    Kolkata\n",
       "    <span style=\"font-size: 0.8em; font-weight: bold; line-height: 1; border-radius: 0.35em; vertical-align: middle; margin-left: 0.5rem\">GPE</span>\n",
       "</mark>\n",
       "?</div></span>"
      ],
      "text/plain": [
       "<IPython.core.display.HTML object>"
      ]
     },
     "metadata": {},
     "output_type": "display_data"
    },
    {
     "data": {
      "text/html": [
       "<span class=\"tex2jax_ignore\"><div class=\"entities\" style=\"line-height: 2.5; direction: ltr\">Is \n",
       "<mark class=\"entity\" style=\"background: #e4e7d2; padding: 0.45em 0.6em; margin: 0 0.25em; line-height: 1; border-radius: 0.35em;\">\n",
       "    12345\n",
       "    <span style=\"font-size: 0.8em; font-weight: bold; line-height: 1; border-radius: 0.35em; vertical-align: middle; margin-left: 0.5rem\">CARDINAL</span>\n",
       "</mark>\n",
       " the train number of \n",
       "<mark class=\"entity\" style=\"background: #9cc9cc; padding: 0.45em 0.6em; margin: 0 0.25em; line-height: 1; border-radius: 0.35em;\">\n",
       "    XYZ Express\n",
       "    <span style=\"font-size: 0.8em; font-weight: bold; line-height: 1; border-radius: 0.35em; vertical-align: middle; margin-left: 0.5rem\">FAC</span>\n",
       "</mark>\n",
       "?</div></span>"
      ],
      "text/plain": [
       "<IPython.core.display.HTML object>"
      ]
     },
     "metadata": {},
     "output_type": "display_data"
    },
    {
     "data": {
      "text/html": [
       "<span class=\"tex2jax_ignore\"><div class=\"entities\" style=\"line-height: 2.5; direction: ltr\">Does \n",
       "<mark class=\"entity\" style=\"background: #9cc9cc; padding: 0.45em 0.6em; margin: 0 0.25em; line-height: 1; border-radius: 0.35em;\">\n",
       "    Bdts Jp Superfast Express\n",
       "    <span style=\"font-size: 0.8em; font-weight: bold; line-height: 1; border-radius: 0.35em; vertical-align: middle; margin-left: 0.5rem\">FAC</span>\n",
       "</mark>\n",
       " have train number \n",
       "<mark class=\"entity\" style=\"background: #e4e7d2; padding: 0.45em 0.6em; margin: 0 0.25em; line-height: 1; border-radius: 0.35em;\">\n",
       "    22933\n",
       "    <span style=\"font-size: 0.8em; font-weight: bold; line-height: 1; border-radius: 0.35em; vertical-align: middle; margin-left: 0.5rem\">CARDINAL</span>\n",
       "</mark>\n",
       "?</div></span>"
      ],
      "text/plain": [
       "<IPython.core.display.HTML object>"
      ]
     },
     "metadata": {},
     "output_type": "display_data"
    },
    {
     "data": {
      "text/html": [
       "<span class=\"tex2jax_ignore\"><div class=\"entities\" style=\"line-height: 2.5; direction: ltr\">Are \n",
       "<mark class=\"entity\" style=\"background: #feca74; padding: 0.45em 0.6em; margin: 0 0.25em; line-height: 1; border-radius: 0.35em;\">\n",
       "    Bandra Terminus\n",
       "    <span style=\"font-size: 0.8em; font-weight: bold; line-height: 1; border-radius: 0.35em; vertical-align: middle; margin-left: 0.5rem\">GPE</span>\n",
       "</mark>\n",
       " and \n",
       "<mark class=\"entity\" style=\"background: #feca74; padding: 0.45em 0.6em; margin: 0 0.25em; line-height: 1; border-radius: 0.35em;\">\n",
       "    H Nizamuddin\n",
       "    <span style=\"font-size: 0.8em; font-weight: bold; line-height: 1; border-radius: 0.35em; vertical-align: middle; margin-left: 0.5rem\">GPE</span>\n",
       "</mark>\n",
       " connected by rail?</div></span>"
      ],
      "text/plain": [
       "<IPython.core.display.HTML object>"
      ]
     },
     "metadata": {},
     "output_type": "display_data"
    },
    {
     "data": {
      "text/html": [
       "<span class=\"tex2jax_ignore\"><div class=\"entities\" style=\"line-height: 2.5; direction: ltr\">The \n",
       "<mark class=\"entity\" style=\"background: #feca74; padding: 0.45em 0.6em; margin: 0 0.25em; line-height: 1; border-radius: 0.35em;\">\n",
       "    Beas Sre Special\n",
       "    <span style=\"font-size: 0.8em; font-weight: bold; line-height: 1; border-radius: 0.35em; vertical-align: middle; margin-left: 0.5rem\">GPE</span>\n",
       "</mark>\n",
       " with train number \n",
       "<mark class=\"entity\" style=\"background: #e4e7d2; padding: 0.45em 0.6em; margin: 0 0.25em; line-height: 1; border-radius: 0.35em;\">\n",
       "    4918\n",
       "    <span style=\"font-size: 0.8em; font-weight: bold; line-height: 1; border-radius: 0.35em; vertical-align: middle; margin-left: 0.5rem\">CARDINAL</span>\n",
       "</mark>\n",
       " connects \n",
       "<mark class=\"entity\" style=\"background: #feca74; padding: 0.45em 0.6em; margin: 0 0.25em; line-height: 1; border-radius: 0.35em;\">\n",
       "    Beas\n",
       "    <span style=\"font-size: 0.8em; font-weight: bold; line-height: 1; border-radius: 0.35em; vertical-align: middle; margin-left: 0.5rem\">GPE</span>\n",
       "</mark>\n",
       " and \n",
       "<mark class=\"entity\" style=\"background: #feca74; padding: 0.45em 0.6em; margin: 0 0.25em; line-height: 1; border-radius: 0.35em;\">\n",
       "    Saharanpur\n",
       "    <span style=\"font-size: 0.8em; font-weight: bold; line-height: 1; border-radius: 0.35em; vertical-align: middle; margin-left: 0.5rem\">GPE</span>\n",
       "</mark>\n",
       "</div></span>"
      ],
      "text/plain": [
       "<IPython.core.display.HTML object>"
      ]
     },
     "metadata": {},
     "output_type": "display_data"
    },
    {
     "data": {
      "text/html": [
       "<span class=\"tex2jax_ignore\"><div class=\"entities\" style=\"line-height: 2.5; direction: ltr\">Are there any trains from \n",
       "<mark class=\"entity\" style=\"background: #feca74; padding: 0.45em 0.6em; margin: 0 0.25em; line-height: 1; border-radius: 0.35em;\">\n",
       "    Kanpur Central\n",
       "    <span style=\"font-size: 0.8em; font-weight: bold; line-height: 1; border-radius: 0.35em; vertical-align: middle; margin-left: 0.5rem\">GPE</span>\n",
       "</mark>\n",
       " to \n",
       "<mark class=\"entity\" style=\"background: #feca74; padding: 0.45em 0.6em; margin: 0 0.25em; line-height: 1; border-radius: 0.35em;\">\n",
       "    Durg\n",
       "    <span style=\"font-size: 0.8em; font-weight: bold; line-height: 1; border-radius: 0.35em; vertical-align: middle; margin-left: 0.5rem\">GPE</span>\n",
       "</mark>\n",
       "?</div></span>"
      ],
      "text/plain": [
       "<IPython.core.display.HTML object>"
      ]
     },
     "metadata": {},
     "output_type": "display_data"
    },
    {
     "data": {
      "text/html": [
       "<span class=\"tex2jax_ignore\"><div class=\"entities\" style=\"line-height: 2.5; direction: ltr\">Are any trains scheduled between \n",
       "<mark class=\"entity\" style=\"background: #feca74; padding: 0.45em 0.6em; margin: 0 0.25em; line-height: 1; border-radius: 0.35em;\">\n",
       "    Kolkata\n",
       "    <span style=\"font-size: 0.8em; font-weight: bold; line-height: 1; border-radius: 0.35em; vertical-align: middle; margin-left: 0.5rem\">GPE</span>\n",
       "</mark>\n",
       " and \n",
       "<mark class=\"entity\" style=\"background: #feca74; padding: 0.45em 0.6em; margin: 0 0.25em; line-height: 1; border-radius: 0.35em;\">\n",
       "    Mumbai CST\n",
       "    <span style=\"font-size: 0.8em; font-weight: bold; line-height: 1; border-radius: 0.35em; vertical-align: middle; margin-left: 0.5rem\">GPE</span>\n",
       "</mark>\n",
       "?</div></span>"
      ],
      "text/plain": [
       "<IPython.core.display.HTML object>"
      ]
     },
     "metadata": {},
     "output_type": "display_data"
    },
    {
     "data": {
      "text/html": [
       "<span class=\"tex2jax_ignore\"><div class=\"entities\" style=\"line-height: 2.5; direction: ltr\">Is \n",
       "<mark class=\"entity\" style=\"background: #feca74; padding: 0.45em 0.6em; margin: 0 0.25em; line-height: 1; border-radius: 0.35em;\">\n",
       "    Jodhpur Junction\n",
       "    <span style=\"font-size: 0.8em; font-weight: bold; line-height: 1; border-radius: 0.35em; vertical-align: middle; margin-left: 0.5rem\">GPE</span>\n",
       "</mark>\n",
       " connected with \n",
       "<mark class=\"entity\" style=\"background: #feca74; padding: 0.45em 0.6em; margin: 0 0.25em; line-height: 1; border-radius: 0.35em;\">\n",
       "    Valsad\n",
       "    <span style=\"font-size: 0.8em; font-weight: bold; line-height: 1; border-radius: 0.35em; vertical-align: middle; margin-left: 0.5rem\">GPE</span>\n",
       "</mark>\n",
       " by rail?</div></span>"
      ],
      "text/plain": [
       "<IPython.core.display.HTML object>"
      ]
     },
     "metadata": {},
     "output_type": "display_data"
    }
   ],
   "source": [
    "for i in questions:\n",
    " x = nlp(i)\n",
    " displacy.render(x,\"ent\")"
   ]
  },
  {
   "cell_type": "markdown",
   "id": "a3519e27",
   "metadata": {},
   "source": [
    "### Getting the output in required format"
   ]
  },
  {
   "cell_type": "code",
   "execution_count": 72,
   "id": "16b21925",
   "metadata": {},
   "outputs": [],
   "source": [
    "entities = nlp(qs).ents\n",
    "entities_with_labels = []"
   ]
  },
  {
   "cell_type": "code",
   "execution_count": 73,
   "id": "209ec9c4",
   "metadata": {},
   "outputs": [],
   "source": [
    "for i in entities:\n",
    "    entities_with_labels.append((i.label_,i.text))"
   ]
  },
  {
   "cell_type": "code",
   "execution_count": 74,
   "id": "491a2d92",
   "metadata": {},
   "outputs": [
    {
     "data": {
      "text/plain": [
       "[('CARDINAL', '9427'), ('FAC', 'Adi Ald Special')]"
      ]
     },
     "execution_count": 74,
     "metadata": {},
     "output_type": "execute_result"
    }
   ],
   "source": [
    "entities_with_labels"
   ]
  },
  {
   "cell_type": "markdown",
   "id": "6f0c498a",
   "metadata": {},
   "source": [
    "# Question Answering"
   ]
  },
  {
   "cell_type": "markdown",
   "id": "fac0a4a0",
   "metadata": {},
   "source": [
    "### Column-Intent Mapping"
   ]
  },
  {
   "cell_type": "code",
   "execution_count": 97,
   "id": "2b605397",
   "metadata": {},
   "outputs": [],
   "source": [
    "column_intent_mapping = {\n",
    "    \"TrainCheck\":[\"Train no.\",\"Train name\"],\n",
    "    \"RouteCheck\":[\"Starts\",\"Ends\"]\n",
    "}"
   ]
  },
  {
   "cell_type": "markdown",
   "id": "aa083429",
   "metadata": {},
   "source": [
    "### Intent Extraction"
   ]
  },
  {
   "cell_type": "code",
   "execution_count": 98,
   "id": "ad3e7ed8",
   "metadata": {},
   "outputs": [
    {
     "data": {
      "text/plain": [
       "{'TrainCheck': 0.708569796852156, 'RouteCheck': 0.466522582615974}"
      ]
     },
     "execution_count": 98,
     "metadata": {},
     "output_type": "execute_result"
    }
   ],
   "source": [
    "intent_similiarity"
   ]
  },
  {
   "cell_type": "code",
   "execution_count": 99,
   "id": "bf455fc0",
   "metadata": {},
   "outputs": [
    {
     "name": "stdout",
     "output_type": "stream",
     "text": [
      "TrainCheck\n"
     ]
    }
   ],
   "source": [
    "intent = max(zip(intent_similiarity.values(), intent_similiarity.keys()))[1]\n",
    "print(intent)"
   ]
  },
  {
   "cell_type": "code",
   "execution_count": 100,
   "id": "7a0a4e3d",
   "metadata": {},
   "outputs": [],
   "source": [
    "relevant_columns = column_intent_mapping[intent]"
   ]
  },
  {
   "cell_type": "code",
   "execution_count": 101,
   "id": "96e88465",
   "metadata": {},
   "outputs": [],
   "source": [
    "trains = pd.read_csv(\"..\\data\\All_Indian_Trains.csv\")"
   ]
  },
  {
   "cell_type": "code",
   "execution_count": 102,
   "id": "0d189545",
   "metadata": {},
   "outputs": [],
   "source": [
    "search_space = trains[relevant_columns]"
   ]
  },
  {
   "cell_type": "code",
   "execution_count": 103,
   "id": "8f58cc3d",
   "metadata": {},
   "outputs": [
    {
     "data": {
      "text/plain": [
       "{'CARDINAL': '9427', 'FAC': 'Adi Ald Special'}"
      ]
     },
     "execution_count": 103,
     "metadata": {},
     "output_type": "execute_result"
    }
   ],
   "source": [
    "dict(entities_with_labels)"
   ]
  },
  {
   "cell_type": "code",
   "execution_count": 104,
   "id": "9a3d700b",
   "metadata": {},
   "outputs": [],
   "source": [
    "if intent == \"RouteCheck\":\n",
    "   search_results = search_space.loc[(search_space['Starts'] == entities_with_labels[0][1]) & (search_space['Ends'] == entities_with_labels[1][1])]\n",
    "else:\n",
    "   entities_with_labels = dict(entities_with_labels)\n",
    "   search_results = search_space.loc[(search_space['Train no.'] == int(entities_with_labels[\"CARDINAL\"])) & (search_space['Train name'] == entities_with_labels[\"FAC\"])]"
   ]
  },
  {
   "cell_type": "code",
   "execution_count": 105,
   "id": "e9a813a2",
   "metadata": {},
   "outputs": [],
   "source": [
    "response = \"No\"\n",
    "if len(search_results) > 0:\n",
    "    response = \"Yes\""
   ]
  },
  {
   "cell_type": "code",
   "execution_count": 106,
   "id": "de19ea92",
   "metadata": {},
   "outputs": [
    {
     "data": {
      "text/plain": [
       "'Yes'"
      ]
     },
     "execution_count": 106,
     "metadata": {},
     "output_type": "execute_result"
    }
   ],
   "source": [
    "response"
   ]
  }
 ],
 "metadata": {
  "interpreter": {
   "hash": "e443b312e6feff0d396647a93eaaecfc37235aac750c756136fcbdcdbd11186d"
  },
  "kernelspec": {
   "display_name": "Python 3 (ipykernel)",
   "language": "python",
   "name": "python3"
  },
  "language_info": {
   "codemirror_mode": {
    "name": "ipython",
    "version": 3
   },
   "file_extension": ".py",
   "mimetype": "text/x-python",
   "name": "python",
   "nbconvert_exporter": "python",
   "pygments_lexer": "ipython3",
   "version": "3.9.7"
  }
 },
 "nbformat": 4,
 "nbformat_minor": 5
}
